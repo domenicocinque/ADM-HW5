{
 "cells": [
  {
   "cell_type": "markdown",
   "metadata": {},
   "source": [
    "# HW5 - Explore Wikipedia's hyperlinks network"
   ]
  },
  {
   "cell_type": "markdown",
   "metadata": {},
   "source": [
    "####  Importing the necessary libraries"
   ]
  },
  {
   "cell_type": "code",
   "execution_count": 2,
   "metadata": {},
   "outputs": [],
   "source": [
    "from collections import defaultdict\n",
    "import random\n",
    "import matplotlib.pyplot as plt\n",
    "import networkx as nx\n",
    "import pandas as pd\n",
    "import numpy as np\n",
    "import queue\n",
    "import statistics \n",
    "from queue import PriorityQueue\n",
    "from tqdm import tqdm \n",
    "from collections import deque\n",
    "from time import time\n",
    "import queue\n",
    "\n",
    "import functions"
   ]
  },
  {
   "cell_type": "markdown",
   "metadata": {},
   "source": [
    "# RQ1\n",
    "\n",
    "\n",
    "Build the graph G=(V, E), where V is the set of articles and E the hyperlinks among them. Then, provide its basic information:\n",
    "\n",
    "* Is the graph directed?\n",
    "* How many articles are we considering?\n",
    "* How many hyperlinks between pages exist?\n",
    "* Compute the average number of links in an arbitrary page. What is the graph density? Do you believe that the graph is dense or sparse? Is the graph dense?\n",
    "* Visualize the nodes' degree distribution\n",
    "\n",
    "----"
   ]
  },
  {
   "cell_type": "markdown",
   "metadata": {},
   "source": [
    "### Building the graph"
   ]
  },
  {
   "cell_type": "code",
   "execution_count": 3,
   "metadata": {},
   "outputs": [],
   "source": [
    "# creating the graph\n",
    "G = nx.MultiDiGraph()\n",
    "nodes = defaultdict(dict)"
   ]
  },
  {
   "cell_type": "code",
   "execution_count": 4,
   "metadata": {},
   "outputs": [],
   "source": [
    "# the datasets\n",
    "names = '/Users/clementerecine/Desktop/git/wiki-topcats-page-names.txt'\n",
    "categories = '/Users/clementerecine/Desktop/git/wiki-topcats-categories.txt'\n",
    "links = '/Users/clementerecine/Desktop/git/wikigraph_reduced.csv'"
   ]
  },
  {
   "cell_type": "code",
   "execution_count": 5,
   "metadata": {},
   "outputs": [],
   "source": [
    "# taking in account the file **categories**, filtering its values and saving it in a dictionary\n",
    "\n",
    "categories_list = defaultdict(list)\n",
    "multiplecat = defaultdict(list)\n",
    "\n",
    "with open(categories) as file:\n",
    "    \n",
    "    for line in file:\n",
    "        line = line.split()\n",
    "        cat = line[0].split(':')[1].strip(';')\n",
    "        pages = list(map(int, line[1:len(line)]))\n",
    "        \n",
    "        # Filtering categories\n",
    "        if len(pages) >= 5000 and len(pages) <= 30000:\n",
    "            categories_list[cat] = pages\n",
    "            \n",
    "            for i in range(len(pages)):\n",
    "                multiplecat[pages[i]].append(cat) # multiplecat = {page_number = [list_of_categories]}\n"
   ]
  },
  {
   "cell_type": "code",
   "execution_count": 6,
   "metadata": {},
   "outputs": [],
   "source": [
    "# this is the list of all the categories we are taking in account\n",
    "remaining = list(categories_list.keys())"
   ]
  },
  {
   "cell_type": "code",
   "execution_count": 7,
   "metadata": {},
   "outputs": [],
   "source": [
    "# Selecting at random one category when a page belongs to more than one\n",
    "\n",
    "for page in multiplecat.keys():\n",
    "    if len(multiplecat[page]) != 1:\n",
    "        nodes[page]['category'] = multiplecat[page][random.randint(0,len(multiplecat[page])-1)]\n",
    "    else:\n",
    "        nodes[page]['category'] = multiplecat[page][0]"
   ]
  },
  {
   "cell_type": "code",
   "execution_count": 8,
   "metadata": {},
   "outputs": [],
   "source": [
    "# saving the page names\n",
    "\n",
    "with open(names) as file:\n",
    "    for line in file:\n",
    "        line = line.split()\n",
    "        number = int(line[0])\n",
    "        name = ' '.join(line[1:])\n",
    "        if number in multiplecat.keys():\n",
    "            nodes[number]['name'] = name\n",
    "            \n",
    "            # nodes = {{page_number: {'name': page_name, 'category': page_category}}"
   ]
  },
  {
   "cell_type": "code",
   "execution_count": 9,
   "metadata": {},
   "outputs": [],
   "source": [
    "# adding nodes to the graph from the format \n",
    "# [(page_number, {'name': page_name, 'category': page_category})]\n",
    "\n",
    "for key in nodes.keys():\n",
    "    G.add_nodes_from([(int(key), nodes[key])])"
   ]
  },
  {
   "cell_type": "code",
   "execution_count": 10,
   "metadata": {},
   "outputs": [],
   "source": [
    "# adding edges from the given links\n",
    "\n",
    "with open(links) as file:\n",
    "    file.readline()\n",
    "    for line in file:\n",
    "        line = line.split()\n",
    "        origin = int(line[1])\n",
    "        destination = int(line[2])\n",
    "        if origin in nodes.keys() and destination in nodes.keys():\n",
    "            G.add_edges_from([(origin,destination)])"
   ]
  },
  {
   "cell_type": "markdown",
   "metadata": {},
   "source": [
    "----"
   ]
  },
  {
   "cell_type": "markdown",
   "metadata": {},
   "source": [
    "The graph is directed because web links are by definition directional. In addition, we can check this feature by viewing that the number of unique origins is different from the number of unique destinations as shown below. Furthermore, we already know from the text assignment that the nodes are categorized in *sources* and *targets*.  "
   ]
  },
  {
   "cell_type": "code",
   "execution_count": 11,
   "metadata": {},
   "outputs": [],
   "source": [
    "df = pd.read_csv(links, sep='\\t')\n",
    "df.drop({'Unnamed: 0'},axis=1,inplace=True)\n",
    "df.rename(columns={'0':'origin', '1':'destination'}, inplace=True)"
   ]
  },
  {
   "cell_type": "code",
   "execution_count": 12,
   "metadata": {},
   "outputs": [
    {
     "data": {
      "text/html": [
       "<div>\n",
       "<style scoped>\n",
       "    .dataframe tbody tr th:only-of-type {\n",
       "        vertical-align: middle;\n",
       "    }\n",
       "\n",
       "    .dataframe tbody tr th {\n",
       "        vertical-align: top;\n",
       "    }\n",
       "\n",
       "    .dataframe thead th {\n",
       "        text-align: right;\n",
       "    }\n",
       "</style>\n",
       "<table border=\"1\" class=\"dataframe\">\n",
       "  <thead>\n",
       "    <tr style=\"text-align: right;\">\n",
       "      <th></th>\n",
       "      <th>origin</th>\n",
       "      <th>destination</th>\n",
       "    </tr>\n",
       "  </thead>\n",
       "  <tbody>\n",
       "    <tr>\n",
       "      <th>0</th>\n",
       "      <td>95</td>\n",
       "      <td>1185516</td>\n",
       "    </tr>\n",
       "    <tr>\n",
       "      <th>1</th>\n",
       "      <td>108</td>\n",
       "      <td>1059989</td>\n",
       "    </tr>\n",
       "    <tr>\n",
       "      <th>2</th>\n",
       "      <td>108</td>\n",
       "      <td>1062426</td>\n",
       "    </tr>\n",
       "    <tr>\n",
       "      <th>3</th>\n",
       "      <td>108</td>\n",
       "      <td>1161925</td>\n",
       "    </tr>\n",
       "    <tr>\n",
       "      <th>4</th>\n",
       "      <td>134</td>\n",
       "      <td>541222</td>\n",
       "    </tr>\n",
       "  </tbody>\n",
       "</table>\n",
       "</div>"
      ],
      "text/plain": [
       "   origin  destination\n",
       "0      95      1185516\n",
       "1     108      1059989\n",
       "2     108      1062426\n",
       "3     108      1161925\n",
       "4     134       541222"
      ]
     },
     "execution_count": 12,
     "metadata": {},
     "output_type": "execute_result"
    }
   ],
   "source": [
    "# let's see how the dataframe is structured\n",
    "df.head()"
   ]
  },
  {
   "cell_type": "code",
   "execution_count": 13,
   "metadata": {},
   "outputs": [
    {
     "data": {
      "text/plain": [
       "False"
      ]
     },
     "execution_count": 13,
     "metadata": {},
     "output_type": "execute_result"
    }
   ],
   "source": [
    "df.origin.nunique() == df.destination.nunique()"
   ]
  },
  {
   "cell_type": "markdown",
   "metadata": {},
   "source": [
    "------"
   ]
  },
  {
   "cell_type": "code",
   "execution_count": 14,
   "metadata": {},
   "outputs": [
    {
     "name": "stdout",
     "output_type": "stream",
     "text": [
      "We have a graph containing 149794 articles and 483094 hyperlinks.\n",
      "The average number of links per page is: 3.2251\n",
      "The graph density is 2.153008313619922e-05\n"
     ]
    }
   ],
   "source": [
    "functions.graphInfo(G)"
   ]
  },
  {
   "cell_type": "markdown",
   "metadata": {},
   "source": [
    "A graph is dense if the number of edges is close to the maximal number of edges that it can have. For directed graph that number is $$ M^* = {2\\cdot {|V| \\choose 2}}$$ In other words the graph is dense if the ratio $|E|/M^*$ is close to 1.\n",
    "\n",
    "In our case we can affirm that the graph is sparse. "
   ]
  },
  {
   "cell_type": "markdown",
   "metadata": {},
   "source": [
    "-----\n",
    "#### Nodes degree distribution\n",
    "\n",
    "We are going here to plot the degree distributions for the indegrees and the outdegrees.\n"
   ]
  },
  {
   "cell_type": "code",
   "execution_count": 14,
   "metadata": {},
   "outputs": [],
   "source": [
    "in_degrees = [G.in_degree(n) for n in G.nodes()]\n",
    "out_degrees = [G.out_degree(n) for n in G.nodes()]"
   ]
  },
  {
   "cell_type": "code",
   "execution_count": 15,
   "metadata": {},
   "outputs": [
    {
     "data": {
      "image/png": "[encoded data removed]",
      "text/plain": [
       "<Figure size 720x720 with 4 Axes>"
      ]
     },
     "metadata": {
      "needs_background": "light"
     },
     "output_type": "display_data"
    }
   ],
   "source": [
    "fig, axs = plt.subplots(2,2, figsize=(10,10))\n",
    "plt.rc('legend', fontsize=6)   \n",
    "fig.suptitle('Degree distribution of the graph G')\n",
    "\n",
    "axs[0,0].set_xscale('log')\n",
    "axs[0,0].hist(in_degrees, log = True, density = True, bins = 50)\n",
    "axs[0,0].set_title('In-degree full range')\n",
    "\n",
    "axs[1,0].hist(in_degrees, log = True, density = True, bins = 500, \n",
    "            range=(0,750), color = 'purple')\n",
    "axs[1,0].set_title('In-degree restricted range')\n",
    "\n",
    "axs[0,1].hist(out_degrees, log = True, density = True, bins = 50)\n",
    "axs[0,1].set_title('Out-degree full range')\n",
    "\n",
    "axs[1,1].hist(out_degrees, log = True, density = True, bins = 500, \n",
    "            range=(0,750), color = 'purple')\n",
    "axs[1,1].set_title('Out-degree restricted range')\n",
    "\n",
    "plt.show()"
   ]
  },
  {
   "cell_type": "markdown",
   "metadata": {},
   "source": [
    "The first two plots are considering the whole range on the $x$-axis and the second ones are focused on a small subset of the axis that contains most of the values. Moreover, the first plot is on the log scale in order to clearly see all the values. \n",
    "\n",
    "We can see that the degree distribution has most of its value before 300, but also a long tail due to some outliers. In addition it seems that the distribution follows a power law $p\\sim k^\\alpha$."
   ]
  },
  {
   "cell_type": "markdown",
   "metadata": {
    "id": "u_-zLVd9U9Nw"
   },
   "source": [
    "# RQ2\n",
    "\n",
    "Define a function that takes in input:\n",
    "\n",
    "* A page v\n",
    "* A number of clicks d\n",
    "and returns the set of all pages that a user can reach within d clicks.\n",
    "\n",
    "-----"
   ]
  },
  {
   "cell_type": "markdown",
   "metadata": {},
   "source": [
    "In order to find the set of pages that we can reach in `nr_clicks` we search for those nodes that are connected between themselves (beeing origin and destination) and that are at a specific distance from the original page. "
   ]
  },
  {
   "cell_type": "code",
   "execution_count": 16,
   "metadata": {
    "colab": {
     "base_uri": "https://localhost:8080/"
    },
    "id": "9WYyo1wnX6LI",
    "outputId": "b6c687a6-05f0-4a48-d38b-9f6c64065152"
   },
   "outputs": [
    {
     "data": {
      "text/html": [
       "<div>\n",
       "<style scoped>\n",
       "    .dataframe tbody tr th:only-of-type {\n",
       "        vertical-align: middle;\n",
       "    }\n",
       "\n",
       "    .dataframe tbody tr th {\n",
       "        vertical-align: top;\n",
       "    }\n",
       "\n",
       "    .dataframe thead th {\n",
       "        text-align: right;\n",
       "    }\n",
       "</style>\n",
       "<table border=\"1\" class=\"dataframe\">\n",
       "  <thead>\n",
       "    <tr style=\"text-align: right;\">\n",
       "      <th></th>\n",
       "      <th>0</th>\n",
       "    </tr>\n",
       "  </thead>\n",
       "  <tbody>\n",
       "    <tr>\n",
       "      <th>0</th>\n",
       "      <td>1595904</td>\n",
       "    </tr>\n",
       "    <tr>\n",
       "      <th>1</th>\n",
       "      <td>1182721</td>\n",
       "    </tr>\n",
       "    <tr>\n",
       "      <th>2</th>\n",
       "      <td>1061891</td>\n",
       "    </tr>\n",
       "    <tr>\n",
       "      <th>3</th>\n",
       "      <td>1067523</td>\n",
       "    </tr>\n",
       "    <tr>\n",
       "      <th>4</th>\n",
       "      <td>1060361</td>\n",
       "    </tr>\n",
       "    <tr>\n",
       "      <th>...</th>\n",
       "      <td>...</td>\n",
       "    </tr>\n",
       "    <tr>\n",
       "      <th>126</th>\n",
       "      <td>1058280</td>\n",
       "    </tr>\n",
       "    <tr>\n",
       "      <th>127</th>\n",
       "      <td>1761772</td>\n",
       "    </tr>\n",
       "    <tr>\n",
       "      <th>128</th>\n",
       "      <td>139762</td>\n",
       "    </tr>\n",
       "    <tr>\n",
       "      <th>129</th>\n",
       "      <td>1061882</td>\n",
       "    </tr>\n",
       "    <tr>\n",
       "      <th>130</th>\n",
       "      <td>1058299</td>\n",
       "    </tr>\n",
       "  </tbody>\n",
       "</table>\n",
       "<p>131 rows × 1 columns</p>\n",
       "</div>"
      ],
      "text/plain": [
       "           0\n",
       "0    1595904\n",
       "1    1182721\n",
       "2    1061891\n",
       "3    1067523\n",
       "4    1060361\n",
       "..       ...\n",
       "126  1058280\n",
       "127  1761772\n",
       "128   139762\n",
       "129  1061882\n",
       "130  1058299\n",
       "\n",
       "[131 rows x 1 columns]"
      ]
     },
     "execution_count": 16,
     "metadata": {},
     "output_type": "execute_result"
    }
   ],
   "source": [
    "functions.RQ2(95,3,df)"
   ]
  },
  {
   "cell_type": "markdown",
   "metadata": {},
   "source": [
    "# RQ3\n",
    "\n",
    "Define a function that takes in input:\n",
    "\n",
    "* A category C\n",
    "* A set of pages in C, p = {p1, ..., pn}\n",
    "\n",
    "and returns the minimum number of clicks required to reach all pages in p, starting from the page v, corresponding to the most central article, according to the in-degree centrality, in C.\n",
    "\n",
    "-----"
   ]
  },
  {
   "cell_type": "markdown",
   "metadata": {},
   "source": [
    "Let $C$ be the chosen category, $S$ the subset of pages inside that category, $G_C$ the subgraph induced by $C$ and $\\hat v$ the most central node according to the indegree cetrality.\n",
    "\n",
    "In order to solve `RQ3` we implemented a heuristic that creates a spanning tree $T$ from $\\hat v$ to all the pages in $S$.\n",
    "\n",
    "Given this tree, for every node $u$ in $T$ we can have two cases:\n",
    "1. the node $u$ has at least an out edge, so it is part of a path ;\n",
    "2. the node $u$ does not have an out edge, so it is a dead end.\n",
    "\n",
    "In the second case, if $\\exists(u,w)\\in G_C$ with $w\\in T$, such that if we add $(u,w)$ to $T$ it is not a dead end anymore, we can add $(u,w)$ to $T$.\n",
    "\n",
    "If this edge does not exists, we imagine that our surfer start again its journey at the starting page, so we add an edge from $u$ to $\\hat v$.   "
   ]
  },
  {
   "cell_type": "code",
   "execution_count": 17,
   "metadata": {
    "scrolled": true
   },
   "outputs": [
    {
     "name": "stdout",
     "output_type": "stream",
     "text": [
      "English_footballers, The_Football_League_players, Association_football_forwards, Association_football_midfielders, Association_football_defenders, Harvard_University_alumni, Major_League_Baseball_pitchers, Members_of_the_United_Kingdom_Parliament_for_English_constituencies, Indian_films, Year_of_death_missing, Rivers_of_Romania, Main_Belt_asteroids, Asteroids_named_for_people, English-language_films, American_films, American_television_actors, American_film_actors, Debut_albums, Black-and-white_films, Year_of_birth_missing, Place_of_birth_missing_(living_people)\n"
     ]
    }
   ],
   "source": [
    "# these are all the categories we are working on\n",
    "print(', '.join(remaining))"
   ]
  },
  {
   "cell_type": "code",
   "execution_count": 18,
   "metadata": {},
   "outputs": [
    {
     "name": "stdout",
     "output_type": "stream",
     "text": [
      "---------------------------------------------\n",
      "The approximated number of clicks is 291\n"
     ]
    }
   ],
   "source": [
    "functions.RQ3(G,'Harvard_University_alumni', df, nodes, None)"
   ]
  },
  {
   "cell_type": "markdown",
   "metadata": {},
   "source": [
    "# RQ4\n",
    "\n",
    "Given in input two categories: C1 and C2, we get the subgraph induced by all the articles in the two categories.\n",
    "\n",
    "Let $v$ and $u$ two arbitrary pages in the subgraph. What is the minimum set of hyperlinks one can remove to disconnect $u$ and $v$?\n",
    "\n",
    "----"
   ]
  },
  {
   "cell_type": "markdown",
   "metadata": {},
   "source": [
    "The main idea is, given two nodes, we build the graph induced by all possible paths from those two nodes and then we use Karger algorithm to approximate the min-cut.\n",
    "\n",
    "The running time depends heavily on the choice of $N$, i.e. the number of times we run the Karger algorithm. "
   ]
  },
  {
   "cell_type": "code",
   "execution_count": 19,
   "metadata": {},
   "outputs": [],
   "source": [
    "C1 = 'The_Football_League_players' \n",
    "C2 = 'English_footballers'\n",
    "node_u = 79082\n",
    "node_v = 79457\n",
    "N = 10"
   ]
  },
  {
   "cell_type": "code",
   "execution_count": 21,
   "metadata": {},
   "outputs": [
    {
     "data": {
      "text/plain": [
       "'The minimum number of hyperlinks to remove in order to disconnect node u and node v is 1'"
      ]
     },
     "execution_count": 21,
     "metadata": {},
     "output_type": "execute_result"
    }
   ],
   "source": [
    "functions.RQ4(G, C1, C2, node_u, node_v, N, categories_list,nodes)"
   ]
  },
  {
   "cell_type": "markdown",
   "metadata": {},
   "source": [
    "# RQ5\n",
    "\n",
    "Write a function that, given an arbitrary category C0 as input, returns the list of remaning categories sorted by their distance from C0. In particular, the distance between two categories is defined as\n",
    "\n",
    "distance(C0, Ci) = median(ShortestPath(C0, Ci))\n",
    "\n",
    "where ShortestPath(C0, Ci) is the set of shortest paths from each pair of nodes in the two categories.\n",
    "\n",
    "\n",
    "----"
   ]
  },
  {
   "cell_type": "markdown",
   "metadata": {},
   "source": [
    "In this exercise we compute the pairwise distances between the categories using `BFS`.\n",
    "\n",
    "In order to be more efficient, for each couple of categories, a subgraph induced by those two is created and the distances are evaluated each time on that. \n",
    "\n",
    "This could take about 20 minutes."
   ]
  },
  {
   "cell_type": "code",
   "execution_count": null,
   "metadata": {
    "scrolled": true
   },
   "outputs": [],
   "source": [
    "functions.RQ5(G,'Association_football_forwards',nodes,remaining)"
   ]
  },
  {
   "cell_type": "markdown",
   "metadata": {},
   "source": [
    "# RQ6\n",
    "\n",
    "Write a function that sorts the categories in the graph according to their PageRank (PR). For this task you need to model the network of categories such that you can apply the PR algorithm.\n",
    "\n",
    "---"
   ]
  },
  {
   "cell_type": "markdown",
   "metadata": {},
   "source": [
    "#### 1. Create the new graph"
   ]
  },
  {
   "cell_type": "markdown",
   "metadata": {},
   "source": [
    "We created a new graph where each node represents a category and there is an edge between two nodes if in original graph there was at least one edge from a node in that category to one in another category. "
   ]
  },
  {
   "cell_type": "code",
   "execution_count": 15,
   "metadata": {},
   "outputs": [],
   "source": [
    "catG = nx.DiGraph()"
   ]
  },
  {
   "cell_type": "code",
   "execution_count": 16,
   "metadata": {},
   "outputs": [],
   "source": [
    "# adding the nodes\n",
    "\n",
    "i = 0\n",
    "dic = dict()\n",
    "for cat in remaining:\n",
    "    catG.add_nodes_from([(i, {'category': cat})])\n",
    "    dic[cat] = i\n",
    "    i += 1"
   ]
  },
  {
   "cell_type": "code",
   "execution_count": 17,
   "metadata": {},
   "outputs": [],
   "source": [
    "# adding the edges\n",
    "\n",
    "for cat in remaining:\n",
    "    for node in categories_list[cat]:\n",
    "        for edge in G.out_edges(node):\n",
    "            origin_cat = G.nodes[edge[0]]['category']\n",
    "            dest_cat = G.nodes[edge[1]]['category']\n",
    "            if origin_cat != dest_cat:\n",
    "                catG.add_edge(dic[origin_cat], dic[dest_cat])"
   ]
  },
  {
   "cell_type": "markdown",
   "metadata": {},
   "source": [
    "#### 2. PageRank"
   ]
  },
  {
   "cell_type": "code",
   "execution_count": null,
   "metadata": {},
   "outputs": [],
   "source": [
    "results = functions.RQ6(catG,G)"
   ]
  },
  {
   "cell_type": "code",
   "execution_count": null,
   "metadata": {},
   "outputs": [],
   "source": [
    "# plotting the graph\n",
    "\n",
    "plt.figure(figsize=(20,10))\n",
    "pos = nx.spring_layout(catG, seed=42)\n",
    "d = dict(catG.degree)\n",
    "\n",
    "node_sizes = [v * 400 for v in results.values()]\n",
    "cmap = plt.cm.plasma\n",
    "\n",
    "nodes = nx.draw_networkx_nodes(catG, \n",
    "                               pos, \n",
    "                               node_size=node_sizes, \n",
    "                               node_color=\"orange\",\n",
    "                               alpha=0.85)\n",
    "\n",
    "edges = nx.draw_networkx_edges(catG,\n",
    "                               pos,\n",
    "                               node_size=node_sizes,\n",
    "                               arrowstyle= \"->\",\n",
    "                               arrowsize= 7,\n",
    "                               width= 1,\n",
    "                               alpha =0.5)\n",
    "\n",
    "labels = nx.draw_networkx_labels(catG, \n",
    "                                 pos, \n",
    "                                 font_family='DIN Alternate',\n",
    "                                 labels = results,\n",
    "                                 font_size=14)\n",
    "                                 \n",
    "\n",
    "ax = plt.gca()\n",
    "ax.set_axis_off()\n",
    "plt.show()"
   ]
  },
  {
   "cell_type": "code",
   "execution_count": null,
   "metadata": {},
   "outputs": [],
   "source": []
  }
 ],
 "metadata": {
  "kernelspec": {
   "display_name": "Python 3",
   "language": "python",
   "name": "python3"
  },
  "language_info": {
   "codemirror_mode": {
    "name": "ipython",
    "version": 3
   },
   "file_extension": ".py",
   "mimetype": "text/x-python",
   "name": "python",
   "nbconvert_exporter": "python",
   "pygments_lexer": "ipython3",
   "version": "3.8.3"
  }
 },
 "nbformat": 4,
 "nbformat_minor": 4
}
